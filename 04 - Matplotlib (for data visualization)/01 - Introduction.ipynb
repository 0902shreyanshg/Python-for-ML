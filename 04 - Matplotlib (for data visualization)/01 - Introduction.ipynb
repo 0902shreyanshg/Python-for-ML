{
 "cells": [
  {
   "cell_type": "markdown",
   "id": "b69f36cb",
   "metadata": {},
   "source": [
    "# Matplotlib"
   ]
  },
  {
   "cell_type": "markdown",
   "id": "75fbb9fc",
   "metadata": {},
   "source": [
    "Matplotlib is a plotting library for the Python programming language and its numerical mathematics extension NumPy. \n",
    "\n",
    "It provides an object-oriented API for embedding plots into applications using general-purpose GUI toolkits like Tkinter, wxPython, Qt, or GTK. There is also a procedural \"pylab\" interface based on a state machine (like OpenGL), designed to closely resemble that of MATLAB, though its use is discouraged. SciPy makes use of Matplotlib.\n",
    "\n",
    "Matplotlib is a NumFOCUS fiscally sponsored project.\n",
    "\n",
    "Matplotlib is a comprehensive library for creating static, animated, and interactive visualizations in Python. Matplotlib makes easy things easy and hard things possible.\n",
    "\n",
    "- Create publication quality plots.\n",
    "- Make interactive figures that can zoom, pan, update.\n",
    "- Customize visual style and layout.\n",
    "- Export to many file formats .\n",
    "- Embed in JupyterLab and Graphical User Interfaces.\n",
    "- Use a rich array of third-party packages built on Matplotlib."
   ]
  },
  {
   "cell_type": "markdown",
   "id": "63864173",
   "metadata": {},
   "source": [
    "## Installation \n",
    "\n",
    "You'll need to install matplotlib first with either:\n",
    "\n",
    "Install using conda\n",
    "\n",
    "    conda install matplotlib\n",
    "or\n",
    "\n",
    "Install using pip\n",
    "\n",
    "    pip install matplotlib"
   ]
  },
  {
   "cell_type": "code",
   "execution_count": null,
   "id": "10f04312",
   "metadata": {},
   "outputs": [],
   "source": []
  }
 ],
 "metadata": {
  "kernelspec": {
   "display_name": "Python 3 (ipykernel)",
   "language": "python",
   "name": "python3"
  },
  "language_info": {
   "codemirror_mode": {
    "name": "ipython",
    "version": 3
   },
   "file_extension": ".py",
   "mimetype": "text/x-python",
   "name": "python",
   "nbconvert_exporter": "python",
   "pygments_lexer": "ipython3",
   "version": "3.9.7"
  }
 },
 "nbformat": 4,
 "nbformat_minor": 5
}
