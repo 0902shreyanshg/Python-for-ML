{
 "cells": [
  {
   "cell_type": "code",
   "execution_count": 1,
   "id": "fc4c43e2",
   "metadata": {},
   "outputs": [
    {
     "data": {
      "text/plain": [
       "2"
      ]
     },
     "execution_count": 1,
     "metadata": {},
     "output_type": "execute_result"
    }
   ],
   "source": [
    "1+1"
   ]
  },
  {
   "cell_type": "code",
   "execution_count": 2,
   "id": "7b1809c6",
   "metadata": {},
   "outputs": [
    {
     "data": {
      "text/plain": [
       "2"
      ]
     },
     "execution_count": 2,
     "metadata": {},
     "output_type": "execute_result"
    }
   ],
   "source": [
    "1*2"
   ]
  },
  {
   "cell_type": "code",
   "execution_count": 3,
   "id": "3d9e97bc",
   "metadata": {},
   "outputs": [
    {
     "data": {
      "text/plain": [
       "0.5"
      ]
     },
     "execution_count": 3,
     "metadata": {},
     "output_type": "execute_result"
    }
   ],
   "source": [
    "1/2"
   ]
  },
  {
   "cell_type": "code",
   "execution_count": 4,
   "id": "ef34111b",
   "metadata": {},
   "outputs": [
    {
     "data": {
      "text/plain": [
       "0.5"
      ]
     },
     "execution_count": 4,
     "metadata": {},
     "output_type": "execute_result"
    }
   ],
   "source": [
    "1/2.0  #Any one number needs to be floating point if you want the result to be \n",
    "       #floating type"
   ]
  },
  {
   "cell_type": "code",
   "execution_count": 5,
   "id": "4636b958",
   "metadata": {},
   "outputs": [
    {
     "data": {
      "text/plain": [
       "16"
      ]
     },
     "execution_count": 5,
     "metadata": {},
     "output_type": "execute_result"
    }
   ],
   "source": [
    "2**4   #Exponents"
   ]
  },
  {
   "cell_type": "code",
   "execution_count": 6,
   "id": "cbc1935e",
   "metadata": {},
   "outputs": [
    {
     "data": {
      "text/plain": [
       "0"
      ]
     },
     "execution_count": 6,
     "metadata": {},
     "output_type": "execute_result"
    }
   ],
   "source": [
    "4%2   #Will return what remains after division"
   ]
  },
  {
   "cell_type": "code",
   "execution_count": 7,
   "id": "4552aecb",
   "metadata": {},
   "outputs": [],
   "source": [
    "var1 = 2\n",
    "var2 = 3\n",
    "# 1var, !var is not allowed"
   ]
  },
  {
   "cell_type": "code",
   "execution_count": 8,
   "id": "0abacb9c",
   "metadata": {},
   "outputs": [
    {
     "data": {
      "text/plain": [
       "5"
      ]
     },
     "execution_count": 8,
     "metadata": {},
     "output_type": "execute_result"
    }
   ],
   "source": [
    "var1 + var2"
   ]
  },
  {
   "cell_type": "code",
   "execution_count": 9,
   "id": "c6f85041",
   "metadata": {},
   "outputs": [
    {
     "data": {
      "text/plain": [
       "\"Tsunade's vsavs\""
      ]
     },
     "execution_count": 9,
     "metadata": {},
     "output_type": "execute_result"
    }
   ],
   "source": [
    "'shjbdsdv sa'\n",
    "\"askcnacn ds\"\n",
    "\"Tsunade's vsavs\" #The reason to use \"\" is if you need to use ' inside the \"\""
   ]
  },
  {
   "cell_type": "code",
   "execution_count": 10,
   "id": "bc3a242a",
   "metadata": {},
   "outputs": [],
   "source": [
    "x = 'Hello'\n"
   ]
  },
  {
   "cell_type": "code",
   "execution_count": 11,
   "id": "38fb4a10",
   "metadata": {},
   "outputs": [
    {
     "data": {
      "text/plain": [
       "'Hello'"
      ]
     },
     "execution_count": 11,
     "metadata": {},
     "output_type": "execute_result"
    }
   ],
   "source": [
    "x   # Here '' will also be included"
   ]
  },
  {
   "cell_type": "code",
   "execution_count": 12,
   "id": "1f9999c1",
   "metadata": {},
   "outputs": [
    {
     "name": "stdout",
     "output_type": "stream",
     "text": [
      "Hello\n"
     ]
    }
   ],
   "source": [
    "print(x)   # Here '' will not be included"
   ]
  },
  {
   "cell_type": "code",
   "execution_count": 7,
   "id": "368c13b9",
   "metadata": {},
   "outputs": [],
   "source": [
    "num = 12\n",
    "name = 'Ino'"
   ]
  },
  {
   "cell_type": "code",
   "execution_count": 8,
   "id": "0a4b0b13",
   "metadata": {},
   "outputs": [
    {
     "name": "stdout",
     "output_type": "stream",
     "text": [
      "My name is Ino and my nummber is 12\n"
     ]
    }
   ],
   "source": [
    "print('My name is {} and my nummber is {}'.format(name,num))\n"
   ]
  },
  {
   "cell_type": "code",
   "execution_count": 5,
   "id": "956767eb",
   "metadata": {},
   "outputs": [],
   "source": [
    "num = 12\n",
    "name = 'Masori'"
   ]
  },
  {
   "cell_type": "code",
   "execution_count": 6,
   "id": "7b2fb362",
   "metadata": {},
   "outputs": [
    {
     "name": "stdout",
     "output_type": "stream",
     "text": [
      "My name is 12 and my name is Masori, more 12\n"
     ]
    }
   ],
   "source": [
    "print('My name is {one} and my name is {two}, more {one}'.format(one=num, two=name))"
   ]
  },
  {
   "cell_type": "code",
   "execution_count": 9,
   "id": "7ee45a22",
   "metadata": {},
   "outputs": [],
   "source": [
    "s = 'hello'"
   ]
  },
  {
   "cell_type": "code",
   "execution_count": 10,
   "id": "05ef5aed",
   "metadata": {},
   "outputs": [
    {
     "data": {
      "text/plain": [
       "'o'"
      ]
     },
     "execution_count": 10,
     "metadata": {},
     "output_type": "execute_result"
    }
   ],
   "source": [
    "s[4]"
   ]
  },
  {
   "cell_type": "code",
   "execution_count": 11,
   "id": "3a487e41",
   "metadata": {},
   "outputs": [
    {
     "data": {
      "text/plain": [
       "'hello'"
      ]
     },
     "execution_count": 11,
     "metadata": {},
     "output_type": "execute_result"
    }
   ],
   "source": [
    "s[0:]"
   ]
  },
  {
   "cell_type": "code",
   "execution_count": 12,
   "id": "bd97f867",
   "metadata": {},
   "outputs": [
    {
     "data": {
      "text/plain": [
       "'hel'"
      ]
     },
     "execution_count": 12,
     "metadata": {},
     "output_type": "execute_result"
    }
   ],
   "source": [
    "s[:3]"
   ]
  },
  {
   "cell_type": "code",
   "execution_count": 13,
   "id": "e91c3eb3",
   "metadata": {},
   "outputs": [
    {
     "data": {
      "text/plain": [
       "'ell'"
      ]
     },
     "execution_count": 13,
     "metadata": {},
     "output_type": "execute_result"
    }
   ],
   "source": [
    "s[1:4]"
   ]
  },
  {
   "cell_type": "code",
   "execution_count": 14,
   "id": "42fcf2a4",
   "metadata": {},
   "outputs": [],
   "source": [
    "my_list = ['a', 'b', 'c']"
   ]
  },
  {
   "cell_type": "code",
   "execution_count": 15,
   "id": "bd4ce721",
   "metadata": {},
   "outputs": [],
   "source": [
    "my_list.append('d')"
   ]
  },
  {
   "cell_type": "code",
   "execution_count": 16,
   "id": "cbb2a54e",
   "metadata": {},
   "outputs": [
    {
     "data": {
      "text/plain": [
       "['a', 'b', 'c', 'd']"
      ]
     },
     "execution_count": 16,
     "metadata": {},
     "output_type": "execute_result"
    }
   ],
   "source": [
    "my_list"
   ]
  },
  {
   "cell_type": "code",
   "execution_count": 17,
   "id": "f5e308d6",
   "metadata": {},
   "outputs": [],
   "source": [
    "my_list[0] = 'new'"
   ]
  },
  {
   "cell_type": "code",
   "execution_count": 18,
   "id": "c19309e6",
   "metadata": {},
   "outputs": [
    {
     "data": {
      "text/plain": [
       "['new', 'b', 'c', 'd']"
      ]
     },
     "execution_count": 18,
     "metadata": {},
     "output_type": "execute_result"
    }
   ],
   "source": [
    "my_list"
   ]
  },
  {
   "cell_type": "code",
   "execution_count": 19,
   "id": "e4e6ed48",
   "metadata": {},
   "outputs": [],
   "source": [
    "nested_list = [1,2,[3,4]]"
   ]
  },
  {
   "cell_type": "code",
   "execution_count": 20,
   "id": "f36f5b57",
   "metadata": {},
   "outputs": [
    {
     "data": {
      "text/plain": [
       "4"
      ]
     },
     "execution_count": 20,
     "metadata": {},
     "output_type": "execute_result"
    }
   ],
   "source": [
    "nested_list[2][1]"
   ]
  },
  {
   "cell_type": "code",
   "execution_count": null,
   "id": "f89dc387",
   "metadata": {},
   "outputs": [],
   "source": []
  }
 ],
 "metadata": {
  "kernelspec": {
   "display_name": "Python 3 (ipykernel)",
   "language": "python",
   "name": "python3"
  },
  "language_info": {
   "codemirror_mode": {
    "name": "ipython",
    "version": 3
   },
   "file_extension": ".py",
   "mimetype": "text/x-python",
   "name": "python",
   "nbconvert_exporter": "python",
   "pygments_lexer": "ipython3",
   "version": "3.9.7"
  }
 },
 "nbformat": 4,
 "nbformat_minor": 5
}
