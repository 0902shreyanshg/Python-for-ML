{
 "cells": [
  {
   "cell_type": "markdown",
   "id": "35865f88",
   "metadata": {},
   "source": [
    "Tuples"
   ]
  },
  {
   "cell_type": "code",
   "execution_count": 1,
   "id": "890a9735",
   "metadata": {},
   "outputs": [],
   "source": [
    "t = (1,2,3)"
   ]
  },
  {
   "cell_type": "code",
   "execution_count": 2,
   "id": "3bb368c7",
   "metadata": {},
   "outputs": [
    {
     "data": {
      "text/plain": [
       "(1, 2, 3)"
      ]
     },
     "execution_count": 2,
     "metadata": {},
     "output_type": "execute_result"
    }
   ],
   "source": [
    "t"
   ]
  },
  {
   "cell_type": "code",
   "execution_count": 3,
   "id": "53e94a64",
   "metadata": {},
   "outputs": [
    {
     "data": {
      "text/plain": [
       "2"
      ]
     },
     "execution_count": 3,
     "metadata": {},
     "output_type": "execute_result"
    }
   ],
   "source": [
    "t[1]"
   ]
  },
  {
   "cell_type": "code",
   "execution_count": 4,
   "id": "f9a9eed8",
   "metadata": {},
   "outputs": [],
   "source": [
    "# Elements in a tuple cannot be changed but it can be changed in a list\n",
    "# Because a tuple doesnot support item re-assignment"
   ]
  },
  {
   "cell_type": "markdown",
   "id": "2f3e2a66",
   "metadata": {},
   "source": [
    "Sets"
   ]
  },
  {
   "cell_type": "code",
   "execution_count": 5,
   "id": "e18cce6e",
   "metadata": {},
   "outputs": [
    {
     "data": {
      "text/plain": [
       "{1, 2, 3, 4}"
      ]
     },
     "execution_count": 5,
     "metadata": {},
     "output_type": "execute_result"
    }
   ],
   "source": [
    "{1,2,3,4}"
   ]
  },
  {
   "cell_type": "code",
   "execution_count": 6,
   "id": "5c79d0b8",
   "metadata": {},
   "outputs": [
    {
     "data": {
      "text/plain": [
       "{1, 2, 3, 4}"
      ]
     },
     "execution_count": 6,
     "metadata": {},
     "output_type": "execute_result"
    }
   ],
   "source": [
    "{1,1,1,1,1,2,2,2,2,2,3,3,3,3,4,4,4,4,}"
   ]
  },
  {
   "cell_type": "code",
   "execution_count": 7,
   "id": "02aef40f",
   "metadata": {},
   "outputs": [],
   "source": [
    "# Only unique elements remain in the output"
   ]
  },
  {
   "cell_type": "markdown",
   "id": "183631ef",
   "metadata": {},
   "source": [
    "If else"
   ]
  },
  {
   "cell_type": "code",
   "execution_count": 8,
   "id": "566b31a8",
   "metadata": {},
   "outputs": [],
   "source": [
    "if 4<2:\n",
    "    print('yep!')"
   ]
  },
  {
   "cell_type": "code",
   "execution_count": 9,
   "id": "eb9c13d4",
   "metadata": {},
   "outputs": [
    {
     "name": "stdout",
     "output_type": "stream",
     "text": [
      "lulu\n"
     ]
    }
   ],
   "source": [
    "if 2<3:\n",
    "    print('lulu')"
   ]
  },
  {
   "cell_type": "code",
   "execution_count": 10,
   "id": "40043e47",
   "metadata": {},
   "outputs": [
    {
     "name": "stdout",
     "output_type": "stream",
     "text": [
      "Execute code\n"
     ]
    }
   ],
   "source": [
    "if True:\n",
    "    print('Execute code')"
   ]
  },
  {
   "cell_type": "code",
   "execution_count": 12,
   "id": "4be18480",
   "metadata": {},
   "outputs": [
    {
     "name": "stdout",
     "output_type": "stream",
     "text": [
      "akccac\n"
     ]
    }
   ],
   "source": [
    "if 1==2:\n",
    "    print('first')\n",
    "elif 3==3:\n",
    "    print('akccac')\n",
    "else:\n",
    "    print('second')"
   ]
  },
  {
   "cell_type": "code",
   "execution_count": null,
   "id": "972b0517",
   "metadata": {},
   "outputs": [],
   "source": []
  }
 ],
 "metadata": {
  "kernelspec": {
   "display_name": "Python 3 (ipykernel)",
   "language": "python",
   "name": "python3"
  },
  "language_info": {
   "codemirror_mode": {
    "name": "ipython",
    "version": 3
   },
   "file_extension": ".py",
   "mimetype": "text/x-python",
   "name": "python",
   "nbconvert_exporter": "python",
   "pygments_lexer": "ipython3",
   "version": "3.9.7"
  }
 },
 "nbformat": 4,
 "nbformat_minor": 5
}
