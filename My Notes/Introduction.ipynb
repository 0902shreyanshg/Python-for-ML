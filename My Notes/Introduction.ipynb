{
 "cells": [
  {
   "cell_type": "code",
   "execution_count": 1,
   "id": "75de8d3a",
   "metadata": {},
   "outputs": [
    {
     "data": {
      "text/plain": [
       "'Shift + Enter'"
      ]
     },
     "execution_count": 1,
     "metadata": {},
     "output_type": "execute_result"
    }
   ],
   "source": [
    "'Shift + Enter' #For getting the output\n"
   ]
  },
  {
   "cell_type": "code",
   "execution_count": 2,
   "id": "c26ee13d",
   "metadata": {},
   "outputs": [],
   "source": [
    "#For insertion of cell, press 'Alt + Enter'"
   ]
  },
  {
   "cell_type": "code",
   "execution_count": null,
   "id": "c8ad09c4",
   "metadata": {},
   "outputs": [],
   "source": []
  }
 ],
 "metadata": {
  "kernelspec": {
   "display_name": "Python 3 (ipykernel)",
   "language": "python",
   "name": "python3"
  },
  "language_info": {
   "codemirror_mode": {
    "name": "ipython",
    "version": 3
   },
   "file_extension": ".py",
   "mimetype": "text/x-python",
   "name": "python",
   "nbconvert_exporter": "python",
   "pygments_lexer": "ipython3",
   "version": "3.9.7"
  }
 },
 "nbformat": 4,
 "nbformat_minor": 5
}
