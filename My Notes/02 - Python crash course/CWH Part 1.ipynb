{
 "cells": [
  {
   "cell_type": "markdown",
   "id": "6d12a5c5",
   "metadata": {},
   "source": [
    "# Taking avg of two numbers"
   ]
  },
  {
   "cell_type": "code",
   "execution_count": 2,
   "id": "1ae977a0",
   "metadata": {},
   "outputs": [
    {
     "name": "stdout",
     "output_type": "stream",
     "text": [
      "Enter a: 5\n",
      "Enter b: 6\n"
     ]
    }
   ],
   "source": [
    "a = input(\"Enter a: \") #This function first takes the input from the user and \n",
    "# then evaluates the expression, which means Python automatically identifies \n",
    "# whether user entered a string or a number or list. \n",
    "b = input(\"Enter b: \")\n",
    "a = int(a)        # It's because input(prompt) allows you to read string from \n",
    "# standard input so avg of two strings won't make any sense, so typcasting it. \n",
    "b = int(b)\n",
    "avg = (a+b)/2"
   ]
  },
  {
   "cell_type": "code",
   "execution_count": 3,
   "id": "8745fe33",
   "metadata": {},
   "outputs": [
    {
     "name": "stdout",
     "output_type": "stream",
     "text": [
      "The avg. of a and b is:  5.5\n"
     ]
    }
   ],
   "source": [
    "print(\"The avg. of a and b is: \", avg)"
   ]
  },
  {
   "cell_type": "markdown",
   "id": "f35cced7",
   "metadata": {},
   "source": [
    "# Letter Template"
   ]
  },
  {
   "cell_type": "code",
   "execution_count": 1,
   "id": "8e82219a",
   "metadata": {},
   "outputs": [
    {
     "name": "stdout",
     "output_type": "stream",
     "text": [
      "Enter your name\n",
      "Shreyansh Gautam\n",
      "Enter Date\n",
      "27 January 2022\n",
      "Dear Shreyansh Gautam\n",
      "You are selected!\n",
      "\n",
      "Date: 27 January 2022\n",
      "\n"
     ]
    }
   ],
   "source": [
    "letter = '''Dear <|NAME|>\n",
    "You are selected!\n",
    "\n",
    "Date: <|DATE|>\n",
    "'''\n",
    "\n",
    "name = input(\"Enter your name\\n\")\n",
    "date = input(\"Enter Date\\n\")\n",
    "letter = letter.replace(\"<|NAME|>\", name)\n",
    "letter = letter.replace(\"<|DATE|>\", date)\n",
    "print(letter)"
   ]
  },
  {
   "cell_type": "markdown",
   "id": "795783d0",
   "metadata": {},
   "source": [
    "# Program to detect double spaces in a string"
   ]
  },
  {
   "cell_type": "code",
   "execution_count": 1,
   "id": "9469771f",
   "metadata": {},
   "outputs": [],
   "source": [
    "st = \"This is a string with double  spaces\""
   ]
  },
  {
   "cell_type": "code",
   "execution_count": 2,
   "id": "7cd3f7b6",
   "metadata": {},
   "outputs": [
    {
     "name": "stdout",
     "output_type": "stream",
     "text": [
      "28\n"
     ]
    }
   ],
   "source": [
    "doubleSpaces = st.find(\"  \")\n",
    "print(doubleSpaces)"
   ]
  },
  {
   "cell_type": "markdown",
   "id": "86583731",
   "metadata": {},
   "source": [
    "# Replace the double spaces from the above problem with single spaces"
   ]
  },
  {
   "cell_type": "code",
   "execution_count": 3,
   "id": "6aa22b59",
   "metadata": {},
   "outputs": [
    {
     "name": "stdout",
     "output_type": "stream",
     "text": [
      "This is a string with double spaces\n"
     ]
    }
   ],
   "source": [
    "st = \"This is a string with double  spaces\"\n",
    "\n",
    "doubleSpaces = st.replace(\"  \", \" \")\n",
    "print(doubleSpaces)"
   ]
  },
  {
   "cell_type": "markdown",
   "id": "a6d9e78d",
   "metadata": {},
   "source": [
    "# Write a program to format the following letter using escape sequence characters.\n",
    "letter = \"Dear Shino, This python course is nice, Thanks!\""
   ]
  },
  {
   "cell_type": "code",
   "execution_count": 4,
   "id": "857bd45d",
   "metadata": {},
   "outputs": [
    {
     "name": "stdout",
     "output_type": "stream",
     "text": [
      "Dear Harry,\n",
      "\tThis python course is nice.\n",
      "Thanks!\n"
     ]
    }
   ],
   "source": [
    "formatted_letter = \"Dear Harry,\\n\\tThis python course is nice.\\nThanks!\"\n",
    "print(formatted_letter)"
   ]
  },
  {
   "cell_type": "markdown",
   "id": "f6d6527e",
   "metadata": {},
   "source": [
    "# Write a program to store four fruits in a list entered by the user"
   ]
  },
  {
   "cell_type": "code",
   "execution_count": 5,
   "id": "81f5a5c1",
   "metadata": {},
   "outputs": [
    {
     "name": "stdout",
     "output_type": "stream",
     "text": [
      "Enter fruit number 1:\n",
      "India\n",
      "Enter fruit number 2:\n",
      "USA\n",
      "Enter fruit number 3:\n",
      "China\n",
      "Enter fruit number 4:\n",
      "Russia\n",
      "['India', 'USA', 'China', 'Russia']\n"
     ]
    }
   ],
   "source": [
    "f1 = input(\"Enter fruit number 1:\\n\")\n",
    "f2 = input(\"Enter fruit number 2:\\n\")\n",
    "f3 = input(\"Enter fruit number 3:\\n\")\n",
    "f4 = input(\"Enter fruit number 4:\\n\")\n",
    "\n",
    "myFruitList = [f1,f2,f3,f4]\n",
    "print(myFruitList)"
   ]
  },
  {
   "cell_type": "markdown",
   "id": "a8ceff14",
   "metadata": {},
   "source": [
    "# Write a program to accept marks of 6 students and display them in a sorted manner"
   ]
  },
  {
   "cell_type": "code",
   "execution_count": 7,
   "id": "99cd6c6f",
   "metadata": {},
   "outputs": [
    {
     "name": "stdout",
     "output_type": "stream",
     "text": [
      "Enter marks for student no. 1:\n",
      "1\n",
      "Enter marks for student no. 2:\n",
      "2\n",
      "Enter marks for student no. 3:\n",
      "3\n",
      "Enter marks for student no. 4:\n",
      "4\n",
      "Enter marks for student no. 5:\n",
      "5\n",
      "Enter marks for student no. 6:\n",
      "6\n",
      "[1, 2, 3, 4, 5, 6]\n"
     ]
    }
   ],
   "source": [
    "s1 = int(input(\"Enter marks for student no. 1:\\n\"))\n",
    "s2 = int(input(\"Enter marks for student no. 2:\\n\"))\n",
    "s3 = int(input(\"Enter marks for student no. 3:\\n\"))\n",
    "s4 = int(input(\"Enter marks for student no. 4:\\n\"))\n",
    "s5 = int(input(\"Enter marks for student no. 5:\\n\"))\n",
    "s6 = int(input(\"Enter marks for student no. 6:\\n\"))\n",
    "\n",
    "\n",
    "myList = [s1,s2,s3,s4,s5,s6]\n",
    "myList.sort()\n",
    "print(myList)"
   ]
  },
  {
   "cell_type": "markdown",
   "id": "2a9aa95a",
   "metadata": {},
   "source": [
    "# Check that a tuple cannot be changed in python"
   ]
  },
  {
   "cell_type": "code",
   "execution_count": 8,
   "id": "fc3aa835",
   "metadata": {},
   "outputs": [
    {
     "ename": "AttributeError",
     "evalue": "'tuple' object has no attribute 'append'",
     "output_type": "error",
     "traceback": [
      "\u001b[1;31m---------------------------------------------------------------------------\u001b[0m",
      "\u001b[1;31mAttributeError\u001b[0m                            Traceback (most recent call last)",
      "\u001b[1;32m~\\AppData\\Local\\Temp/ipykernel_1352/2323341911.py\u001b[0m in \u001b[0;36m<module>\u001b[1;34m\u001b[0m\n\u001b[0;32m      1\u001b[0m \u001b[0ma\u001b[0m \u001b[1;33m=\u001b[0m \u001b[1;33m(\u001b[0m\u001b[1;36m2\u001b[0m\u001b[1;33m,\u001b[0m\u001b[1;36m4\u001b[0m\u001b[1;33m,\u001b[0m\u001b[1;36m5\u001b[0m\u001b[1;33m,\u001b[0m\u001b[1;36m3\u001b[0m\u001b[1;33m,\u001b[0m\u001b[1;36m6\u001b[0m\u001b[1;33m)\u001b[0m\u001b[1;33m\u001b[0m\u001b[1;33m\u001b[0m\u001b[0m\n\u001b[1;32m----> 2\u001b[1;33m \u001b[0ma\u001b[0m\u001b[1;33m.\u001b[0m\u001b[0mappend\u001b[0m\u001b[1;33m(\u001b[0m\u001b[1;36m9\u001b[0m\u001b[1;33m)\u001b[0m\u001b[1;33m\u001b[0m\u001b[1;33m\u001b[0m\u001b[0m\n\u001b[0m",
      "\u001b[1;31mAttributeError\u001b[0m: 'tuple' object has no attribute 'append'"
     ]
    }
   ],
   "source": [
    "a = (2,4,5,3,6)\n",
    "a.append(9)"
   ]
  },
  {
   "cell_type": "markdown",
   "id": "a9d01626",
   "metadata": {},
   "source": [
    "# Write a program to sum a list of 4 numbers"
   ]
  },
  {
   "cell_type": "code",
   "execution_count": 11,
   "id": "e6341598",
   "metadata": {},
   "outputs": [
    {
     "name": "stdout",
     "output_type": "stream",
     "text": [
      "15\n"
     ]
    }
   ],
   "source": [
    "total = 0\n",
    "a = [1,2,3,4,5]\n",
    "\n",
    "for ele in range(0,len(a)):\n",
    "    total = total + a[ele]\n",
    "print(total)"
   ]
  },
  {
   "cell_type": "code",
   "execution_count": 13,
   "id": "f72d862a",
   "metadata": {},
   "outputs": [
    {
     "name": "stdout",
     "output_type": "stream",
     "text": [
      "15\n"
     ]
    }
   ],
   "source": [
    "total2 = sum(a)\n",
    "print(total2)"
   ]
  },
  {
   "cell_type": "markdown",
   "id": "e335aadf",
   "metadata": {},
   "source": [
    "# Write a program to count the number of zeros in the following tuple\n",
    "a = (7,0,8,0,0,9)"
   ]
  },
  {
   "cell_type": "code",
   "execution_count": 15,
   "id": "84bb376d",
   "metadata": {},
   "outputs": [
    {
     "data": {
      "text/plain": [
       "3"
      ]
     },
     "execution_count": 15,
     "metadata": {},
     "output_type": "execute_result"
    }
   ],
   "source": [
    "a = (7,0,8,0,0,9)\n",
    "a.count(0)"
   ]
  },
  {
   "cell_type": "markdown",
   "id": "fde24051",
   "metadata": {},
   "source": [
    "# Write a program to create a dicitionary of hindi words with values as their english translation. Provide the user with an option to look it up."
   ]
  },
  {
   "cell_type": "code",
   "execution_count": 4,
   "id": "927f3bd0",
   "metadata": {},
   "outputs": [
    {
     "name": "stdout",
     "output_type": "stream",
     "text": [
      "Options are  dict_keys(['Pankha', 'Dabba', 'Vastu'])\n",
      "Enter the hindi word: Pankha\n",
      "The meaning of the word is:  Fan\n"
     ]
    }
   ],
   "source": [
    "myDict = {\n",
    "    'Pankha': 'Fan',\n",
    "    'Dabba': 'Box',\n",
    "    'Vastu': 'Item'\n",
    "}\n",
    "\n",
    "print(\"Options are \", myDict.keys())\n",
    "a = input(\"Enter the hindi word: \")\n",
    "print(\"The meaning of the word is: \", myDict[a])"
   ]
  },
  {
   "cell_type": "code",
   "execution_count": 5,
   "id": "4729df13",
   "metadata": {},
   "outputs": [
    {
     "name": "stdout",
     "output_type": "stream",
     "text": [
      "Options are  dict_keys(['Pankha', 'Dabba', 'Vastu'])\n"
     ]
    },
    {
     "ename": "KeyboardInterrupt",
     "evalue": "Interrupted by user",
     "output_type": "error",
     "traceback": [
      "\u001b[1;31m---------------------------------------------------------------------------\u001b[0m",
      "\u001b[1;31mKeyboardInterrupt\u001b[0m                         Traceback (most recent call last)",
      "\u001b[1;32m~\\AppData\\Local\\Temp/ipykernel_2600/3008852286.py\u001b[0m in \u001b[0;36m<module>\u001b[1;34m\u001b[0m\n\u001b[0;32m      6\u001b[0m \u001b[1;33m\u001b[0m\u001b[0m\n\u001b[0;32m      7\u001b[0m \u001b[0mprint\u001b[0m\u001b[1;33m(\u001b[0m\u001b[1;34m\"Options are \"\u001b[0m\u001b[1;33m,\u001b[0m \u001b[0mmyDict\u001b[0m\u001b[1;33m.\u001b[0m\u001b[0mkeys\u001b[0m\u001b[1;33m(\u001b[0m\u001b[1;33m)\u001b[0m\u001b[1;33m)\u001b[0m\u001b[1;33m\u001b[0m\u001b[1;33m\u001b[0m\u001b[0m\n\u001b[1;32m----> 8\u001b[1;33m \u001b[0ma\u001b[0m \u001b[1;33m=\u001b[0m \u001b[0minput\u001b[0m\u001b[1;33m(\u001b[0m\u001b[1;34m\"Enter the hindi word: \"\u001b[0m\u001b[1;33m)\u001b[0m\u001b[1;33m\u001b[0m\u001b[1;33m\u001b[0m\u001b[0m\n\u001b[0m\u001b[0;32m      9\u001b[0m \u001b[0mprint\u001b[0m\u001b[1;33m(\u001b[0m\u001b[1;34m\"The meaning of the word is: \"\u001b[0m\u001b[1;33m,\u001b[0m \u001b[0mmyDict\u001b[0m\u001b[1;33m.\u001b[0m\u001b[0mget\u001b[0m\u001b[1;33m(\u001b[0m\u001b[0ma\u001b[0m\u001b[1;33m)\u001b[0m\u001b[1;33m)\u001b[0m  \u001b[1;31m# This will not show an\u001b[0m\u001b[1;33m\u001b[0m\u001b[1;33m\u001b[0m\u001b[0m\n\u001b[0;32m     10\u001b[0m                                                       \u001b[1;31m# error if the key is not\u001b[0m\u001b[1;33m\u001b[0m\u001b[1;33m\u001b[0m\u001b[0m\n",
      "\u001b[1;32m~\\anaconda3\\lib\\site-packages\\ipykernel\\kernelbase.py\u001b[0m in \u001b[0;36mraw_input\u001b[1;34m(self, prompt)\u001b[0m\n\u001b[0;32m   1004\u001b[0m                 \u001b[1;34m\"raw_input was called, but this frontend does not support input requests.\"\u001b[0m\u001b[1;33m\u001b[0m\u001b[1;33m\u001b[0m\u001b[0m\n\u001b[0;32m   1005\u001b[0m             )\n\u001b[1;32m-> 1006\u001b[1;33m         return self._input_request(\n\u001b[0m\u001b[0;32m   1007\u001b[0m             \u001b[0mstr\u001b[0m\u001b[1;33m(\u001b[0m\u001b[0mprompt\u001b[0m\u001b[1;33m)\u001b[0m\u001b[1;33m,\u001b[0m\u001b[1;33m\u001b[0m\u001b[1;33m\u001b[0m\u001b[0m\n\u001b[0;32m   1008\u001b[0m             \u001b[0mself\u001b[0m\u001b[1;33m.\u001b[0m\u001b[0m_parent_ident\u001b[0m\u001b[1;33m[\u001b[0m\u001b[1;34m\"shell\"\u001b[0m\u001b[1;33m]\u001b[0m\u001b[1;33m,\u001b[0m\u001b[1;33m\u001b[0m\u001b[1;33m\u001b[0m\u001b[0m\n",
      "\u001b[1;32m~\\anaconda3\\lib\\site-packages\\ipykernel\\kernelbase.py\u001b[0m in \u001b[0;36m_input_request\u001b[1;34m(self, prompt, ident, parent, password)\u001b[0m\n\u001b[0;32m   1049\u001b[0m             \u001b[1;32mexcept\u001b[0m \u001b[0mKeyboardInterrupt\u001b[0m\u001b[1;33m:\u001b[0m\u001b[1;33m\u001b[0m\u001b[1;33m\u001b[0m\u001b[0m\n\u001b[0;32m   1050\u001b[0m                 \u001b[1;31m# re-raise KeyboardInterrupt, to truncate traceback\u001b[0m\u001b[1;33m\u001b[0m\u001b[1;33m\u001b[0m\u001b[0m\n\u001b[1;32m-> 1051\u001b[1;33m                 \u001b[1;32mraise\u001b[0m \u001b[0mKeyboardInterrupt\u001b[0m\u001b[1;33m(\u001b[0m\u001b[1;34m\"Interrupted by user\"\u001b[0m\u001b[1;33m)\u001b[0m \u001b[1;32mfrom\u001b[0m \u001b[1;32mNone\u001b[0m\u001b[1;33m\u001b[0m\u001b[1;33m\u001b[0m\u001b[0m\n\u001b[0m\u001b[0;32m   1052\u001b[0m             \u001b[1;32mexcept\u001b[0m \u001b[0mException\u001b[0m\u001b[1;33m:\u001b[0m\u001b[1;33m\u001b[0m\u001b[1;33m\u001b[0m\u001b[0m\n\u001b[0;32m   1053\u001b[0m                 \u001b[0mself\u001b[0m\u001b[1;33m.\u001b[0m\u001b[0mlog\u001b[0m\u001b[1;33m.\u001b[0m\u001b[0mwarning\u001b[0m\u001b[1;33m(\u001b[0m\u001b[1;34m\"Invalid Message:\"\u001b[0m\u001b[1;33m,\u001b[0m \u001b[0mexc_info\u001b[0m\u001b[1;33m=\u001b[0m\u001b[1;32mTrue\u001b[0m\u001b[1;33m)\u001b[0m\u001b[1;33m\u001b[0m\u001b[1;33m\u001b[0m\u001b[0m\n",
      "\u001b[1;31mKeyboardInterrupt\u001b[0m: Interrupted by user"
     ]
    }
   ],
   "source": [
    "myDict = {\n",
    "    'Pankha': 'Fan',\n",
    "    'Dabba': 'Box',\n",
    "    'Vastu': 'Item'\n",
    "}\n",
    "\n",
    "print(\"Options are \", myDict.keys())\n",
    "a = input(\"Enter the hindi word: \")\n",
    "print(\"The meaning of the word is: \", myDict.get(a))  # This will not show an\n",
    "                                                      # error if the key is not\n",
    "                                                      # present in the dict."
   ]
  },
  {
   "cell_type": "markdown",
   "id": "4f831c69",
   "metadata": {},
   "source": [
    "# Write a program to input eight numbers from the user and display all the unique numbers(once)"
   ]
  },
  {
   "cell_type": "code",
   "execution_count": null,
   "id": "b7560488",
   "metadata": {},
   "outputs": [],
   "source": [
    "# USE SETS"
   ]
  },
  {
   "cell_type": "markdown",
   "id": "194396f9",
   "metadata": {},
   "source": [
    "# What will be the length of the following set 's':\n",
    "# s = set()\n",
    "# s.add(20)\n",
    "# s.add(20.0)\n",
    "# s.add(\"20\")"
   ]
  },
  {
   "cell_type": "code",
   "execution_count": 6,
   "id": "7195c8e2",
   "metadata": {},
   "outputs": [
    {
     "name": "stdout",
     "output_type": "stream",
     "text": [
      "{20, '20'}\n",
      "2\n"
     ]
    }
   ],
   "source": [
    "s = {20,20.0,\"20\"}\n",
    "print(s)\n",
    "print(len(s))"
   ]
  },
  {
   "cell_type": "code",
   "execution_count": 7,
   "id": "9661d254",
   "metadata": {},
   "outputs": [],
   "source": [
    "# This happens because 20 and 20.0 is considered to be the same element and \n",
    "# hence, counted once."
   ]
  },
  {
   "cell_type": "markdown",
   "id": "3db21499",
   "metadata": {},
   "source": [
    "# s = { }\n",
    "# What is the type of s?"
   ]
  },
  {
   "cell_type": "code",
   "execution_count": 8,
   "id": "42a69999",
   "metadata": {},
   "outputs": [],
   "source": [
    "# s is an empty dicitionary\n",
    "# An empty set is represented as s= set()"
   ]
  },
  {
   "cell_type": "code",
   "execution_count": 10,
   "id": "b72f6232",
   "metadata": {},
   "outputs": [
    {
     "data": {
      "text/plain": [
       "dict"
      ]
     },
     "execution_count": 10,
     "metadata": {},
     "output_type": "execute_result"
    }
   ],
   "source": [
    "s = {}\n",
    "type(s)"
   ]
  },
  {
   "cell_type": "code",
   "execution_count": 11,
   "id": "e86537d0",
   "metadata": {},
   "outputs": [
    {
     "data": {
      "text/plain": [
       "set"
      ]
     },
     "execution_count": 11,
     "metadata": {},
     "output_type": "execute_result"
    }
   ],
   "source": [
    "a = set()\n",
    "type(a)"
   ]
  },
  {
   "cell_type": "markdown",
   "id": "d3b09b91",
   "metadata": {},
   "source": [
    "#  Create an  empty dicitionary. Allow 4 friends to enter their favourite language as values and use keys as their names. Assume that the names are unique."
   ]
  },
  {
   "cell_type": "code",
   "execution_count": 15,
   "id": "543c8d48",
   "metadata": {},
   "outputs": [
    {
     "name": "stdout",
     "output_type": "stream",
     "text": [
      "Enter your favourite language Hinata\n",
      "py\n",
      "Enter your favourite language Tenten\n",
      "c\n",
      "Enter your favourite language Ino\n",
      "c++\n",
      "Enter your favourite language Sakura\n",
      "js\n",
      "{'Hinata': 'py', 'Tenten': 'c', 'Ino': 'c++', 'Sakura': 'js'}\n"
     ]
    }
   ],
   "source": [
    "favLang = {}\n",
    "a = input(\"Enter your favourite language Hinata\\n\")\n",
    "b = input(\"Enter your favourite language Tenten\\n\")\n",
    "c = input(\"Enter your favourite language Ino\\n\")\n",
    "d = input(\"Enter your favourite language Sakura\\n\")\n",
    "\n",
    "favLang['Hinata'] = a\n",
    "favLang['Tenten'] = b\n",
    "favLang['Ino'] = c\n",
    "favLang['Sakura'] = d\n",
    "\n",
    "print(favLang)"
   ]
  },
  {
   "cell_type": "markdown",
   "id": "7b869301",
   "metadata": {},
   "source": [
    "# Above problem with 2 same names"
   ]
  },
  {
   "cell_type": "code",
   "execution_count": 14,
   "id": "5e52a446",
   "metadata": {},
   "outputs": [
    {
     "name": "stdout",
     "output_type": "stream",
     "text": [
      "Enter your favourite language Tenten\n",
      "py\n",
      "Enter your favourite language Tenten\n",
      "js\n",
      "Enter your favourite language Ino\n",
      "java\n",
      "Enter your favourite language Sakura\n",
      "c++\n",
      "{'Tenten': 'js', 'Ino': 'java', 'Sakura': 'c++'}\n"
     ]
    }
   ],
   "source": [
    "favLang = {}\n",
    "a = input(\"Enter your favourite language Tenten\\n\")\n",
    "b = input(\"Enter your favourite language Tenten\\n\")\n",
    "c = input(\"Enter your favourite language Ino\\n\")\n",
    "d = input(\"Enter your favourite language Sakura\\n\")\n",
    "\n",
    "favLang['Tenten'] = a\n",
    "favLang['Tenten'] = b\n",
    "favLang['Ino'] = c\n",
    "favLang['Sakura'] = d\n",
    "\n",
    "print(favLang)"
   ]
  },
  {
   "cell_type": "markdown",
   "id": "b2a8b316",
   "metadata": {},
   "source": [
    "# Languages of 2 friends are same of the program above the previous program"
   ]
  },
  {
   "cell_type": "code",
   "execution_count": 16,
   "id": "4ff531bb",
   "metadata": {},
   "outputs": [
    {
     "name": "stdout",
     "output_type": "stream",
     "text": [
      "Enter your favourite language Hinata\n",
      "c\n",
      "Enter your favourite language Tenten\n",
      "c\n",
      "Enter your favourite language Ino\n",
      "js\n",
      "Enter your favourite language Sakura\n",
      "py\n",
      "{'Hinata': 'c', 'Tenten': 'c', 'Ino': 'js', 'Sakura': 'py'}\n"
     ]
    }
   ],
   "source": [
    "favLang = {}\n",
    "a = input(\"Enter your favourite language Hinata\\n\")\n",
    "b = input(\"Enter your favourite language Tenten\\n\")\n",
    "c = input(\"Enter your favourite language Ino\\n\")\n",
    "d = input(\"Enter your favourite language Sakura\\n\")\n",
    "\n",
    "favLang['Hinata'] = a\n",
    "favLang['Tenten'] = b\n",
    "favLang['Ino'] = c\n",
    "favLang['Sakura'] = d\n",
    "\n",
    "print(favLang)"
   ]
  },
  {
   "cell_type": "code",
   "execution_count": 17,
   "id": "75418dcf",
   "metadata": {},
   "outputs": [],
   "source": [
    "# Keys should be unique, which ain't necessary for values"
   ]
  },
  {
   "cell_type": "markdown",
   "id": "84885da2",
   "metadata": {},
   "source": [
    "# Can you change the values inside a list which is contained in set s:\n",
    "s = {8,7,12,\"Harry\",[1,2]}"
   ]
  },
  {
   "cell_type": "code",
   "execution_count": 1,
   "id": "9f2e60b1",
   "metadata": {},
   "outputs": [],
   "source": [
    "# First of all, one cannot store lists inside a set\n",
    "# So, the set itself will throw error\n",
    "# So the question itself is wrong"
   ]
  },
  {
   "cell_type": "markdown",
   "id": "3f797338",
   "metadata": {},
   "source": [
    "# Write a program to find greatest of four numbers entered by the user."
   ]
  },
  {
   "cell_type": "code",
   "execution_count": 3,
   "id": "fd418d29",
   "metadata": {},
   "outputs": [
    {
     "name": "stdout",
     "output_type": "stream",
     "text": [
      "Enter num 1: 1\n",
      "Enter num 2: 2\n",
      "Enter num 3: 3\n",
      "Enter num 4: 4\n",
      "4 is the greatest\n"
     ]
    }
   ],
   "source": [
    "a = int(input(\"Enter num 1: \"))\n",
    "b = int(input(\"Enter num 2: \"))\n",
    "c = int(input(\"Enter num 3: \"))\n",
    "d = int(input(\"Enter num 4: \"))\n",
    "\n",
    "if(a > b):\n",
    "    f1 = a\n",
    "else: \n",
    "    f1 = b\n",
    "    \n",
    "\n",
    "if(c > d):\n",
    "    f2 = c\n",
    "else: \n",
    "    f2 = d\n",
    "\n",
    "\n",
    "if(f1 > f2):\n",
    "    print(str(f1) + \" is the greatest\")\n",
    "else:\n",
    "    print(str(f2) + \" is the greatest\")"
   ]
  },
  {
   "cell_type": "markdown",
   "id": "c319c6fb",
   "metadata": {},
   "source": [
    "# Write a program to find out whether a student is pass or fail, if it requires total 40% and at least 33% in each subject to pass. Assume 3 subjects and take marks as an input from the user."
   ]
  },
  {
   "cell_type": "code",
   "execution_count": null,
   "id": "7d814343",
   "metadata": {},
   "outputs": [],
   "source": [
    "a = int(input(\"Enter sub 1 marks: \"))\n",
    "b = int(input(\"Enter sub 2 marks: \"))\n",
    "c = int(input(\"Enter sub 3 marks: \"))\n",
    "\n"
   ]
  }
 ],
 "metadata": {
  "kernelspec": {
   "display_name": "Python 3 (ipykernel)",
   "language": "python",
   "name": "python3"
  },
  "language_info": {
   "codemirror_mode": {
    "name": "ipython",
    "version": 3
   },
   "file_extension": ".py",
   "mimetype": "text/x-python",
   "name": "python",
   "nbconvert_exporter": "python",
   "pygments_lexer": "ipython3",
   "version": "3.9.7"
  }
 },
 "nbformat": 4,
 "nbformat_minor": 5
}
