{
 "cells": [
  {
   "cell_type": "markdown",
   "id": "4223dcf3",
   "metadata": {},
   "source": [
    "Virtual environments allow you to set up virtual installations of python and libraries on your computer.\n",
    "you can easily have multiple versions of python or libraries and easily activate or deactivate these environments.\n",
    "There is the virtualenv library for normal python distributions. Anaconda has a built in virtual environment manager that makes the whole procress really easy."
   ]
  },
  {
   "cell_type": "markdown",
   "id": "490ddf73",
   "metadata": {},
   "source": [
    "\n",
    "https://conda.io/projects/conda/en/latest/user-guide/tasks/manage-environments.html"
   ]
  }
 ],
 "metadata": {
  "kernelspec": {
   "display_name": "Python 3 (ipykernel)",
   "language": "python",
   "name": "python3"
  },
  "language_info": {
   "codemirror_mode": {
    "name": "ipython",
    "version": 3
   },
   "file_extension": ".py",
   "mimetype": "text/x-python",
   "name": "python",
   "nbconvert_exporter": "python",
   "pygments_lexer": "ipython3",
   "version": "3.9.7"
  }
 },
 "nbformat": 4,
 "nbformat_minor": 5
}
